{
 "cells": [
  {
   "cell_type": "code",
   "execution_count": 31,
   "id": "81854250",
   "metadata": {},
   "outputs": [
    {
     "name": "stdout",
     "output_type": "stream",
     "text": [
      "[]\n"
     ]
    }
   ],
   "source": [
    "import os\n",
    "pdf_files=[]\n",
    "directory_path='./'\n",
    "for filename in os.listdir(directory_path):\n",
    "    file_path = os.path.join(directory_path,filename)\n",
    "    if os.path.isfile(file_path) and filename.lower().endswith('.pdf'):\n",
    "        pdf_files.append(filename)\n",
    "\n",
    "print(pdf_files)"
   ]
  },
  {
   "cell_type": "code",
   "execution_count": 32,
   "id": "82b14767",
   "metadata": {},
   "outputs": [],
   "source": [
    "import PyPDF2"
   ]
  },
  {
   "cell_type": "code",
   "execution_count": 33,
   "id": "e08c9be6",
   "metadata": {},
   "outputs": [],
   "source": [
    "from PyPDF2 import PdfReader,PdfFileWriter,PdfMerger,PdfWriter"
   ]
  },
  {
   "cell_type": "code",
   "execution_count": 34,
   "id": "1cef5805",
   "metadata": {},
   "outputs": [],
   "source": [
    "merger=PdfMerger()"
   ]
  },
  {
   "cell_type": "code",
   "execution_count": 35,
   "id": "efe64cd0",
   "metadata": {},
   "outputs": [],
   "source": [
    "for file in pdf_files:\n",
    "    merger.append(directory_path+file)\n",
    "    print(directory_path+file)"
   ]
  },
  {
   "cell_type": "code",
   "execution_count": 36,
   "id": "d72f1a7b",
   "metadata": {},
   "outputs": [],
   "source": [
    "pdf_writer = PdfWriter()\n",
    "with open('output.pdf', 'wb') as output_file:\n",
    "    pdf_writer.write(output_file)"
   ]
  },
  {
   "cell_type": "code",
   "execution_count": 37,
   "id": "536a9344",
   "metadata": {},
   "outputs": [],
   "source": [
    "merger.write('output.pdf')\n",
    "merger.close()"
   ]
  },
  {
   "cell_type": "code",
   "execution_count": null,
   "id": "becb4319",
   "metadata": {},
   "outputs": [],
   "source": []
  }
 ],
 "metadata": {
  "kernelspec": {
   "display_name": "Python 3 (ipykernel)",
   "language": "python",
   "name": "python3"
  },
  "language_info": {
   "codemirror_mode": {
    "name": "ipython",
    "version": 3
   },
   "file_extension": ".py",
   "mimetype": "text/x-python",
   "name": "python",
   "nbconvert_exporter": "python",
   "pygments_lexer": "ipython3",
   "version": "3.9.7"
  }
 },
 "nbformat": 4,
 "nbformat_minor": 5
}
